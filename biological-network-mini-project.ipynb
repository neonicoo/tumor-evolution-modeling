{
 "cells": [
  {
   "cell_type": "code",
   "execution_count": 1,
   "metadata": {},
   "outputs": [],
   "source": [
    "import random\n",
    "import math\n",
    "import time\n",
    "import copy\n",
    "import seaborn as sns\n",
    "import numpy as np\n",
    "import matplotlib.pyplot as plt"
   ]
  },
  {
   "cell_type": "code",
   "execution_count": 2,
   "metadata": {},
   "outputs": [],
   "source": [
    "random.seed(time.time()) #To get a \"really\" random generator "
   ]
  },
  {
   "cell_type": "code",
   "execution_count": 3,
   "metadata": {},
   "outputs": [],
   "source": [
    "class Cell (object) :\n",
    "    \n",
    "    next_ID = 0\n",
    "    \n",
    "    def __init__(self, state = \"NORMAL\", clone = 0, fitness = 1, mutation_rate = 0.001):\n",
    "        self.state = state\n",
    "        self.fitness = fitness\n",
    "        self.clone = clone\n",
    "        self.mutation_rate = mutation_rate\n",
    "        self.ID = Cell.next_ID\n",
    "        self.treatment_duration = 0\n",
    "        Cell.next_ID += 1\n",
    "        \n",
    "    def __str__(self):\n",
    "        return \"Cell #{0} of state : {1} and clone type {2}\".format(self.ID, self.state, self.clone)\n",
    "    \n",
    "    def mutate (self, new_clone_id):\n",
    "        if self.state == \"NORMAL\":\n",
    "            self.state = \"CANCEROUS\"\n",
    "            \n",
    "        self.clone = new_clone_id\n",
    "        self.fitness = random.uniform(0, 1)\n",
    "        self.mutation_rate = random.uniform(0, 0.01)\n",
    "        \n",
    "    def treatment (self, alpha):\n",
    "        self.fitness = self.fitness * alpha\n",
    "        self.treatment_duration += 1"
   ]
  },
  {
   "cell_type": "code",
   "execution_count": 4,
   "metadata": {},
   "outputs": [],
   "source": [
    "class Tissue ( object ) :\n",
    "    \n",
    "    def __init__(self, omega, alpha, generation_time, clones_init):\n",
    "        self.generation_time = generation_time\n",
    "        self.omega = omega\n",
    "        self.alpha = alpha\n",
    "        self.detection = False\n",
    "        self.pop = []\n",
    "        self.clones_pop = copy.deepcopy(clones_init)    \n",
    "    \n",
    "    def initial_population(self, N = 1000, prop_cancer = 0.01):\n",
    "        \n",
    "        nb_cancer_cells = round(prop_cancer *N)\n",
    "        \n",
    "        for i in range(N):\n",
    "            if (i < nb_cancer_cells) :\n",
    "                state = \"CANCEROUS\"\n",
    "                clone = random.choice(range(1, len(self.clones_pop.keys())))\n",
    "                \n",
    "            else :\n",
    "                state = \"NORMAL\"\n",
    "                clone = 0\n",
    "            \n",
    "            fitness = self.clones_pop[clone][\"fitness\"]\n",
    "            mutation_rate = self.clones_pop[clone][\"mu\"]  \n",
    "                \n",
    "            new_cell = Cell(state, clone, fitness, mutation_rate)\n",
    "            self.pop.append(new_cell)\n",
    "            self.clones_pop[clone][\"freq\"] += 1 \n",
    "            \n",
    "    def stats(self):\n",
    "        nb_cells = len(self.pop)\n",
    "        nb_normal_cells = self.clones_pop[0][\"freq\"]\n",
    "        nb_cancer_cells = nb_cells - nb_normal_cells\n",
    "        nb_clones = 0\n",
    "        \n",
    "        for key in list(self.clones_pop.keys()):\n",
    "            if (key != 0 and self.clones_pop[key][\"freq\"] > 0):\n",
    "                nb_clones +=1\n",
    "        \n",
    "        if (nb_cancer_cells >= self.omega * nb_cells):\n",
    "            self.detection = True\n",
    " \n",
    "        return (nb_cells, nb_normal_cells, nb_cancer_cells, nb_clones)\n",
    "            \n",
    "    def get_treatment(self):\n",
    "        if (self.detection == True): #if the cancer has been detected\n",
    "            for cell in self.pop:\n",
    "                if (cell.state == \"CANCEROUS\") and (cell.treatment_duration < self.generation_time):\n",
    "                    cell.treatment(self.alpha)\n",
    "    \n",
    "    def reproduce (self):\n",
    "        minimum = 1\n",
    "        candidat = self.pop[0]\n",
    "        proba_selection = random.uniform(0, 1)\n",
    "        \n",
    "        for cell in self.pop :\n",
    "            #selection of an individual with a proba proportional to the fitness\n",
    "            #i.e. minimize the différence between the proba and the fitness\n",
    "            if (abs( cell.fitness - proba_selection) < minimum):\n",
    "                minimum = abs( cell.fitness - proba_selection)\n",
    "                candidat = cell\n",
    "        \n",
    "        new_cell = Cell(candidat.state, candidat.clone, candidat.fitness, candidat.mutation_rate)\n",
    "        \n",
    "        \n",
    "        #Proba of mutation : give birth to another clone type\n",
    "        proba_mutation = random.uniform(0, 1)\n",
    "        if proba_mutation < new_cell.mutation_rate :\n",
    "            new_clone_id=len(self.clones_pop.keys())\n",
    "            new_cell.mutate(new_clone_id)\n",
    "            self.clones_pop[new_cell.clone] = self.clones_pop.get(new_cell.clone, {\"fitness\" :new_cell.fitness, \n",
    "                                         \"mu\": new_cell.mutation_rate, \n",
    "                                        \"freq\" : 1})\n",
    "        else:\n",
    "            self.clones_pop[new_cell.clone][\"freq\"] += 1\n",
    "        \n",
    "        self.pop.append(new_cell)\n",
    "    \n",
    "    def get_apoptose(self):\n",
    "        cell = random.choice(self.pop)\n",
    "        self.pop.remove(cell)\n",
    "        self.clones_pop[cell.clone][\"freq\"] -= 1 "
   ]
  },
  {
   "cell_type": "code",
   "execution_count": 5,
   "metadata": {},
   "outputs": [],
   "source": [
    "nb_init_clones = 3\n",
    "clones_init = {0: {\"fitness\" : 1,\"mu\": 0.001, \"freq\" : 0}}\n",
    "\n",
    "for i in range(1,nb_init_clones+1):\n",
    "    clones_init[i] = clones_init.get(i, {\"fitness\" :round(random.uniform(0,1), 4), \n",
    "                                         \"mu\": round(random.uniform(0, 0.002), 4), \n",
    "                                        \"freq\" : 0})"
   ]
  },
  {
   "cell_type": "code",
   "execution_count": 6,
   "metadata": {},
   "outputs": [],
   "source": [
    "default_clone_init = {0: {\"fitness\" : 1,\"mu\": 0.001, \"freq\" : 0}}\n",
    "\n",
    "def run (nb_runs, omega, alpha, T, treatment = True, verbose = True, clones_init=default_clone_init):\n",
    "    \n",
    "    my_tissue = Tissue(omega, alpha, T, clones_init=clones_init)\n",
    "    my_tissue.initial_population(N = 1000, prop_cancer = 0.1)  #initial population of 1000 individus\n",
    "    \n",
    "    if verbose:\n",
    "        print(\"Initilisation : \")\n",
    "        print ( \"Total number of cells : {}, number of normal cells : {}, number of cancerous cells {}\".format(my_tissue.stats()[0], my_tissue.stats()[1], my_tissue.stats()[2]) ) \n",
    "        print ( \"\\n\" )\n",
    "        \n",
    "    nb_cells = []\n",
    "    nb_normal_cells = []\n",
    "    nb_cancer_cells = []\n",
    "    nb_clones = []\n",
    "    \n",
    "    for i in range (nb_runs):\n",
    "        my_tissue.reproduce()\n",
    "        my_tissue.get_apoptose()\n",
    "        \n",
    "        if (treatment) :\n",
    "            my_tissue.get_treatment()\n",
    "        \n",
    "        nb_cells.append(my_tissue.stats()[0])\n",
    "        nb_normal_cells.append(my_tissue.stats()[1])\n",
    "        nb_cancer_cells.append(my_tissue.stats()[2])\n",
    "        nb_clones.append(my_tissue.stats()[3])        \n",
    "    \n",
    "    if verbose :\n",
    "        print ( \"Statistics after\", nb_runs, \"runs : \")\n",
    "        print ( \"Total number of cells : {}, number of normal cells : {}, number of cancerous cells : {}\".format(nb_cells[-1], nb_normal_cells[-1], nb_cancer_cells[-1], \"\\n\" ) )\n",
    "        #print ( \"\\n\" )\n",
    "        #print(my_tissue.clones_pop)\n",
    "        \n",
    "    return ( (nb_cells, nb_normal_cells, nb_cancer_cells, nb_clones))\n",
    "    #return (my_tissue.clones_pop)"
   ]
  },
  {
   "cell_type": "markdown",
   "metadata": {},
   "source": [
    "The simulation with a while loop takes a lot of time (it ends very rarely), maybe this is due to my code. Besides, in order to have a simulation, I decided to replace the while loop by a for loop."
   ]
  },
  {
   "cell_type": "code",
   "execution_count": 7,
   "metadata": {},
   "outputs": [
    {
     "name": "stdout",
     "output_type": "stream",
     "text": [
      "Initilisation : \n",
      "Total number of cells : 1000, number of normal cells : 900, number of cancerous cells 100\n",
      "\n",
      "\n",
      "Statistics after 10000 runs : \n",
      "Total number of cells : 1000, number of normal cells : 5, number of cancerous cells : 995\n"
     ]
    }
   ],
   "source": [
    "#Without treatment :\n",
    "simulation1 = run(nb_runs=10000, omega=0.25, alpha=0.5, T=25, treatment=False, verbose=True, clones_init=clones_init)"
   ]
  },
  {
   "cell_type": "code",
   "execution_count": 8,
   "metadata": {},
   "outputs": [
    {
     "data": {
      "image/png": "[encoded data removed]",
      "text/plain": [
       "<Figure size 432x288 with 1 Axes>"
      ]
     },
     "metadata": {
      "needs_background": "light"
     },
     "output_type": "display_data"
    }
   ],
   "source": [
    "plt.plot(range(10000), simulation1[1], label = \"normal cells\")\n",
    "plt.plot(range(10000), simulation1[2], label = \"cancerous cells\")\n",
    "plt.plot(range(10000), simulation1[3], label = \"clones\")\n",
    "plt.legend()\n",
    "plt.show()"
   ]
  },
  {
   "cell_type": "code",
   "execution_count": 9,
   "metadata": {},
   "outputs": [
    {
     "name": "stdout",
     "output_type": "stream",
     "text": [
      "Initilisation : \n",
      "Total number of cells : 1000, number of normal cells : 900, number of cancerous cells 100\n",
      "\n",
      "\n",
      "Statistics after 10000 runs : \n",
      "Total number of cells : 1000, number of normal cells : 481, number of cancerous cells : 519\n"
     ]
    }
   ],
   "source": [
    "#With treatment :\n",
    "simulation2 = run (nb_runs=10000, omega=0.25, alpha=1/3, T=25, treatment=True, verbose=True, clones_init=clones_init)"
   ]
  },
  {
   "cell_type": "code",
   "execution_count": 10,
   "metadata": {},
   "outputs": [
    {
     "data": {
      "image/png": "[encoded data removed]",
      "text/plain": [
       "<Figure size 432x288 with 1 Axes>"
      ]
     },
     "metadata": {
      "needs_background": "light"
     },
     "output_type": "display_data"
    }
   ],
   "source": [
    "plt.plot(range(10000), simulation2[1], label = \"normal cells\")\n",
    "plt.plot(range(10000), simulation2[2], label = \"cancerous cells\")\n",
    "plt.plot(range(10000), simulation2[3], label = \"clones\")\n",
    "plt.legend()\n",
    "plt.show()"
   ]
  },
  {
   "cell_type": "code",
   "execution_count": 11,
   "metadata": {},
   "outputs": [
    {
     "data": {
      "image/png": "[encoded data removed]",
      "text/plain": [
       "<Figure size 432x288 with 1 Axes>"
      ]
     },
     "metadata": {
      "needs_background": "light"
     },
     "output_type": "display_data"
    }
   ],
   "source": [
    "plt.plot(range(10000), simulation1[3], label = \"clones1\")\n",
    "plt.plot(range(10000), simulation2[3], label = \"clones2\")\n",
    "plt.legend()\n",
    "plt.show()"
   ]
  },
  {
   "cell_type": "code",
   "execution_count": null,
   "metadata": {},
   "outputs": [],
   "source": []
  },
  {
   "cell_type": "code",
   "execution_count": null,
   "metadata": {},
   "outputs": [],
   "source": []
  },
  {
   "cell_type": "code",
   "execution_count": null,
   "metadata": {},
   "outputs": [],
   "source": []
  },
  {
   "cell_type": "code",
   "execution_count": null,
   "metadata": {},
   "outputs": [],
   "source": []
  },
  {
   "cell_type": "code",
   "execution_count": 12,
   "metadata": {},
   "outputs": [],
   "source": [
    "def shannon_diversity (N, n):\n",
    "    p = n/N\n",
    "    return (- p *  math.log(p, 2)) #napierian logarithm"
   ]
  },
  {
   "cell_type": "code",
   "execution_count": 13,
   "metadata": {},
   "outputs": [
    {
     "data": {
      "text/plain": [
       "0.007195411384920484"
      ]
     },
     "execution_count": 13,
     "metadata": {},
     "output_type": "execute_result"
    }
   ],
   "source": [
    "shannon_diversity (1000, simulation1[2][-1]) #without treatment"
   ]
  },
  {
   "cell_type": "code",
   "execution_count": 14,
   "metadata": {},
   "outputs": [
    {
     "data": {
      "text/plain": [
       "0.491074455721883"
      ]
     },
     "execution_count": 14,
     "metadata": {},
     "output_type": "execute_result"
    }
   ],
   "source": [
    "shannon_diversity (1000, simulation2[2][-1]) #with treatment"
   ]
  },
  {
   "cell_type": "code",
   "execution_count": null,
   "metadata": {},
   "outputs": [],
   "source": []
  },
  {
   "cell_type": "code",
   "execution_count": null,
   "metadata": {},
   "outputs": [],
   "source": []
  },
  {
   "cell_type": "code",
   "execution_count": null,
   "metadata": {},
   "outputs": [],
   "source": []
  },
  {
   "cell_type": "code",
   "execution_count": null,
   "metadata": {},
   "outputs": [],
   "source": []
  }
 ],
 "metadata": {
  "kernelspec": {
   "display_name": "Python 3 (ipykernel)",
   "language": "python",
   "name": "python3"
  },
  "language_info": {
   "codemirror_mode": {
    "name": "ipython",
    "version": 3
   },
   "file_extension": ".py",
   "mimetype": "text/x-python",
   "name": "python",
   "nbconvert_exporter": "python",
   "pygments_lexer": "ipython3",
   "version": "3.9.7"
  }
 },
 "nbformat": 4,
 "nbformat_minor": 4
}
